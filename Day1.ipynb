{
  "cells": [
    {
      "cell_type": "markdown",
      "metadata": {
        "id": "fiGJApDVuEYp"
      },
      "source": [
        "# Introduction to Python programming"
      ]
    },
    {
      "cell_type": "markdown",
      "metadata": {
        "id": "87_bfOB2uEY9"
      },
      "source": [
        "## Operators and comparisons"
      ]
    },
    {
      "cell_type": "markdown",
      "metadata": {
        "id": "evifoIwOuEY9"
      },
      "source": [
        "Most operators and comparisons in Python work as one would expect:\n",
        "\n",
        "* Arithmetic operators `+`, `-`, `*`, `/`, `//` (integer division), '**' power\n"
      ]
    },
    {
      "cell_type": "code",
      "execution_count": 1,
      "metadata": {
        "id": "nlNBmwGnuEY9",
        "outputId": "62fb817e-370b-4084-c6a1-10f3f44e78ea"
      },
      "outputs": [
        {
          "name": "stdout",
          "output_type": "stream",
          "text": [
            "3 -1 2 0.5\n"
          ]
        }
      ],
      "source": [
        "print(1 + 2, 1 - 2, 1 * 2, 1 / 2)"
      ]
    },
    {
      "cell_type": "code",
      "execution_count": 2,
      "metadata": {
        "id": "poTR-lN3uEZD",
        "outputId": "2cded8d2-341c-4e0c-a1dd-3b342703deb8"
      },
      "outputs": [
        {
          "name": "stdout",
          "output_type": "stream",
          "text": [
            "3.0 -1.0 2.0 0.5\n"
          ]
        }
      ],
      "source": [
        "print(1.0 + 2.0, 1.0 - 2.0, 1.0 * 2.0, 1.0 / 2.0)"
      ]
    },
    {
      "cell_type": "code",
      "execution_count": 3,
      "metadata": {
        "colab": {
          "base_uri": "https://localhost:8080/"
        },
        "id": "GfaZJ06IuEZD",
        "outputId": "6886624f-0090-440a-df2a-9a99a1d0c40e"
      },
      "outputs": [
        {
          "name": "stdout",
          "output_type": "stream",
          "text": [
            "1.0\n"
          ]
        }
      ],
      "source": [
        "# Integer division of float numbers\n",
        "print(3.0 // 2.0)"
      ]
    },
    {
      "cell_type": "code",
      "execution_count": 4,
      "metadata": {
        "colab": {
          "base_uri": "https://localhost:8080/"
        },
        "id": "aV-fbwD8uEZD",
        "outputId": "d7113502-d553-42f4-c134-034846f9b3f3"
      },
      "outputs": [
        {
          "name": "stdout",
          "output_type": "stream",
          "text": [
            "4\n"
          ]
        }
      ],
      "source": [
        "# Note! The power operators in python isn't ^, but **\n",
        "print(2**2)"
      ]
    },
    {
      "cell_type": "markdown",
      "metadata": {
        "id": "EDrpwfYsuEZE"
      },
      "source": [
        "Note: The `/` operator always performs a floating point division in Python 3.x.\n",
        "This is not true in Python 2.x, where the result of `/` is always an integer if the operands are integers.\n",
        "to be more specific, `1/2 = 0.5` (`float`) in Python 3.x, and `1/2 = 0` (`int`) in Python 2.x (but `1.0/2 = 0.5` in Python 2.x)."
      ]
    },
    {
      "cell_type": "markdown",
      "metadata": {
        "id": "i7shIsFbuEZE"
      },
      "source": [
        "* The boolean operators are spelled out as the words `and`, `not`, `or`."
      ]
    },
    {
      "cell_type": "code",
      "execution_count": 5,
      "metadata": {
        "id": "EIIAkFM7uEZE",
        "outputId": "68f2bd86-b5e1-44eb-aafb-e372711cac8a"
      },
      "outputs": [
        {
          "name": "stdout",
          "output_type": "stream",
          "text": [
            "False\n"
          ]
        }
      ],
      "source": [
        "print(True and False)"
      ]
    },
    {
      "cell_type": "code",
      "execution_count": 6,
      "metadata": {
        "colab": {
          "base_uri": "https://localhost:8080/"
        },
        "id": "EWDFkd6iuEZE",
        "outputId": "e5c4f98d-bfd6-4213-ef49-11a6ac43f2be"
      },
      "outputs": [
        {
          "name": "stdout",
          "output_type": "stream",
          "text": [
            "True\n"
          ]
        }
      ],
      "source": [
        "print(not False)"
      ]
    },
    {
      "cell_type": "code",
      "execution_count": 7,
      "metadata": {
        "colab": {
          "base_uri": "https://localhost:8080/"
        },
        "id": "4ZmiKQBbuEZE",
        "outputId": "93c3a576-d38e-49e1-eb86-c9a3e05cdf32"
      },
      "outputs": [
        {
          "name": "stdout",
          "output_type": "stream",
          "text": [
            "True\n"
          ]
        }
      ],
      "source": [
        "print(True or False)"
      ]
    },
    {
      "cell_type": "markdown",
      "metadata": {
        "id": "kbuRcMPeuEZF"
      },
      "source": [
        "* Comparison operators `>`, `<`, `>=` (greater or equal), `<=` (less or equal), `==` equality, `is` identical."
      ]
    },
    {
      "cell_type": "code",
      "execution_count": 8,
      "metadata": {
        "colab": {
          "base_uri": "https://localhost:8080/"
        },
        "id": "YRTcWJTLuEZG",
        "outputId": "cd1eeee7-6212-4172-ae0d-37c84b62b87c"
      },
      "outputs": [
        {
          "name": "stdout",
          "output_type": "stream",
          "text": [
            "True\n"
          ]
        }
      ],
      "source": [
        "# equality\n",
        "print([1, 2] == [1, 2])"
      ]
    },
    {
      "cell_type": "code",
      "execution_count": 9,
      "metadata": {
        "colab": {
          "base_uri": "https://localhost:8080/"
        },
        "id": "H5S_Ig7YuEZH",
        "outputId": "051a9e08-6721-4562-fb56-1d5f0de79ce6"
      },
      "outputs": [
        {
          "name": "stdout",
          "output_type": "stream",
          "text": [
            "[1, 2]\n"
          ]
        }
      ],
      "source": [
        "# objects identical?\n",
        "l1 = l2 = [1, 2]\n",
        "\n",
        "print(l1)"
      ]
    },
    {
      "cell_type": "markdown",
      "metadata": {
        "id": "BOOsUDpMuEZH"
      },
      "source": [
        "## Compound types: Strings, List and dictionaries"
      ]
    },
    {
      "cell_type": "markdown",
      "metadata": {
        "id": "FFk4jSWBuEZI"
      },
      "source": [
        "### Strings"
      ]
    },
    {
      "cell_type": "markdown",
      "metadata": {
        "id": "WXz0ti3tuEZI"
      },
      "source": [
        "Strings are the variable type that is used for storing text messages."
      ]
    },
    {
      "cell_type": "code",
      "execution_count": 10,
      "metadata": {
        "colab": {
          "base_uri": "https://localhost:8080/"
        },
        "id": "zt26KwgiuEZI",
        "outputId": "6c746a91-91fb-4892-9b79-916d15f86c20"
      },
      "outputs": [
        {
          "name": "stdout",
          "output_type": "stream",
          "text": [
            "Hello world\n"
          ]
        }
      ],
      "source": [
        "s = \"\"\"Hello world\"\"\"\n",
        "print(s)"
      ]
    },
    {
      "cell_type": "code",
      "execution_count": 11,
      "metadata": {
        "id": "Op6V5JqwuEZI",
        "outputId": "07e1b188-454b-466c-f473-3f66eed58e93"
      },
      "outputs": [
        {
          "name": "stdout",
          "output_type": "stream",
          "text": [
            "11\n"
          ]
        }
      ],
      "source": [
        "# length of the string: the number of characters\n",
        "print(len(s))"
      ]
    },
    {
      "cell_type": "code",
      "execution_count": 1,
      "metadata": {
        "colab": {
          "base_uri": "https://localhost:8080/"
        },
        "id": "NOywem60uEZJ",
        "outputId": "ee346a72-4839-426f-d9a5-349872236fc4"
      },
      "outputs": [
        {
          "name": "stdout",
          "output_type": "stream",
          "text": [
            "I am teaching AI-D, AI-B and AI-N\n"
          ]
        }
      ],
      "source": [
        "# replace a substring in a string with somethign else\n",
        "str2 = \"I am teaching DS-D, DS-B and DS-N\"\n",
        "s2 = str2.replace(\"DS\", \"AI\")\n",
        "print(s2)\n"
      ]
    },
    {
      "cell_type": "markdown",
      "metadata": {
        "id": "2dSXYE5KuEZJ"
      },
      "source": [
        "We can index a character in a string using `[]`:"
      ]
    },
    {
      "cell_type": "code",
      "execution_count": 13,
      "metadata": {
        "colab": {
          "base_uri": "https://localhost:8080/"
        },
        "id": "8kVmetRwuEZJ",
        "outputId": "fac39fd4-5169-4ee3-e1fc-c585e97adaed"
      },
      "outputs": [
        {
          "name": "stdout",
          "output_type": "stream",
          "text": [
            "I\n"
          ]
        }
      ],
      "source": [
        "print(str2[0])"
      ]
    },
    {
      "cell_type": "markdown",
      "metadata": {
        "id": "6k6rIDxtuEZJ"
      },
      "source": [
        "**Heads up MATLAB users:** Indexing start at 0!\n",
        "\n",
        "We can extract a part of a string using the syntax `[start:stop]`, which extracts characters between index `start` and `stop` -1 (the character at index `stop` is not included):"
      ]
    },
    {
      "cell_type": "code",
      "execution_count": 14,
      "metadata": {
        "id": "StbsEZPwuEZJ"
      },
      "outputs": [
        {
          "name": "stdout",
          "output_type": "stream",
          "text": [
            " am \n"
          ]
        }
      ],
      "source": [
        "print(str2[1:5])"
      ]
    },
    {
      "cell_type": "code",
      "execution_count": 15,
      "metadata": {
        "id": "iFJS1bCruEZK"
      },
      "outputs": [
        {
          "name": "stdout",
          "output_type": "stream",
          "text": [
            "o\n"
          ]
        }
      ],
      "source": [
        "print(s[4:5])"
      ]
    },
    {
      "cell_type": "markdown",
      "metadata": {
        "id": "rK3eITRVuEZK"
      },
      "source": [
        "If we omit either (or both) of `start` or `stop` from `[start:stop]`, the default is the beginning and the end of the string, respectively:"
      ]
    },
    {
      "cell_type": "code",
      "execution_count": 16,
      "metadata": {
        "colab": {
          "base_uri": "https://localhost:8080/"
        },
        "id": "_2eykvZKuEZK",
        "outputId": "1c170f77-9f0d-443e-a27c-58b43c4b0146"
      },
      "outputs": [
        {
          "name": "stdout",
          "output_type": "stream",
          "text": [
            "I am tea\n"
          ]
        }
      ],
      "source": [
        "print(str2[:8])"
      ]
    },
    {
      "cell_type": "code",
      "execution_count": 17,
      "metadata": {
        "colab": {
          "base_uri": "https://localhost:8080/"
        },
        "id": "7PztXTR5uEZK",
        "outputId": "ef72f589-e68d-47d7-e6cf-1b669e5f4f7c"
      },
      "outputs": [
        {
          "name": "stdout",
          "output_type": "stream",
          "text": [
            "world\n"
          ]
        }
      ],
      "source": [
        "print(s[6:])"
      ]
    },
    {
      "cell_type": "code",
      "execution_count": 18,
      "metadata": {
        "colab": {
          "base_uri": "https://localhost:8080/"
        },
        "id": "Jur8iRXUuEZK",
        "outputId": "8f4bf505-875f-4db9-ca89-1f34b120695a"
      },
      "outputs": [
        {
          "name": "stdout",
          "output_type": "stream",
          "text": [
            "Hello world\n"
          ]
        }
      ],
      "source": [
        "print(s[:])"
      ]
    },
    {
      "cell_type": "markdown",
      "metadata": {
        "id": "DQKlWBb8uEZL"
      },
      "source": [
        "We can also define the step size using the syntax `[start:end:step]` (the default value for `step` is 1, as we saw above):"
      ]
    },
    {
      "cell_type": "code",
      "execution_count": 19,
      "metadata": {
        "colab": {
          "base_uri": "https://localhost:8080/"
        },
        "id": "sX3nq0jBuEZL",
        "outputId": "9efa47c0-e09d-495e-c87d-d7b4cf5e7e9a"
      },
      "outputs": [
        {
          "name": "stdout",
          "output_type": "stream",
          "text": [
            "Hlwl\n"
          ]
        }
      ],
      "source": [
        "print(s[::3])"
      ]
    },
    {
      "cell_type": "code",
      "execution_count": 20,
      "metadata": {
        "colab": {
          "base_uri": "https://localhost:8080/"
        },
        "id": "UdqU2vaPuEZL",
        "outputId": "d04ebf85-bd89-463c-b747-8ffb0f6d2239"
      },
      "outputs": [
        {
          "name": "stdout",
          "output_type": "stream",
          "text": [
            "H\n"
          ]
        }
      ],
      "source": [
        "print(s[:2:2])"
      ]
    },
    {
      "cell_type": "markdown",
      "metadata": {
        "id": "-UIIjzySuEZL"
      },
      "source": [
        "This technique is called *slicing*. Read more about the syntax here: http://docs.python.org/release/2.7.3/library/functions.html?highlight=slice#slice"
      ]
    },
    {
      "cell_type": "markdown",
      "metadata": {
        "id": "6bF8bfktuEZL"
      },
      "source": [
        "Python has a very rich set of functions for text processing. See for example http://docs.python.org/2/library/string.html for more information."
      ]
    },
    {
      "cell_type": "markdown",
      "metadata": {
        "id": "gDiHfe1vuEZM"
      },
      "source": [
        "#### String formatting examples"
      ]
    },
    {
      "cell_type": "code",
      "execution_count": 21,
      "metadata": {
        "colab": {
          "base_uri": "https://localhost:8080/"
        },
        "id": "KnpaKo3juEZM",
        "outputId": "44a6c8ca-3065-45b1-82b2-67f08887b8d7"
      },
      "outputs": [
        {
          "name": "stdout",
          "output_type": "stream",
          "text": [
            "str1 str2 str3\n"
          ]
        }
      ],
      "source": [
        "print(\"str1\", \"str2\", \"str3\")  # The print statement concatenates strings with a space"
      ]
    },
    {
      "cell_type": "code",
      "execution_count": 22,
      "metadata": {
        "colab": {
          "base_uri": "https://localhost:8080/"
        },
        "id": "wMqnWN0duEZM",
        "outputId": "58718087-3997-45c9-ceb3-e20f52507155"
      },
      "outputs": [
        {
          "name": "stdout",
          "output_type": "stream",
          "text": [
            "str1 1.0 False (-0-1j)\n"
          ]
        }
      ],
      "source": [
        "print(\"str1\", 1.0, False, -1j)  # The print statements converts all arguments to strings"
      ]
    },
    {
      "cell_type": "code",
      "execution_count": 23,
      "metadata": {
        "colab": {
          "base_uri": "https://localhost:8080/"
        },
        "id": "JD0H0kgTuEZN",
        "outputId": "bfc8b020-e8b2-41bb-a5c1-537ca74272d4"
      },
      "outputs": [
        {
          "name": "stdout",
          "output_type": "stream",
          "text": [
            "str1str2str3\n"
          ]
        }
      ],
      "source": [
        "print(\"str1\" + \"str2\" + \"str3\")  # strings added with + are concatenated without space"
      ]
    },
    {
      "cell_type": "code",
      "execution_count": 24,
      "metadata": {
        "colab": {
          "base_uri": "https://localhost:8080/"
        },
        "id": "DzR9hN5auEZN",
        "outputId": "65e3a173-a68a-4bab-a4c0-56cdea3c1e6d"
      },
      "outputs": [
        {
          "name": "stdout",
          "output_type": "stream",
          "text": [
            "value = 1.000000\n"
          ]
        }
      ],
      "source": [
        "print(\"value = %f\" % 1.0)  # we can use C-style string formatting"
      ]
    },
    {
      "cell_type": "code",
      "execution_count": 25,
      "metadata": {
        "colab": {
          "base_uri": "https://localhost:8080/"
        },
        "id": "woXpACxnuEZN",
        "outputId": "4ffa43a0-a39f-4674-ff99-811b2d2882d7"
      },
      "outputs": [
        {
          "name": "stdout",
          "output_type": "stream",
          "text": [
            "value1 = 3.14. value2 = 1\n"
          ]
        }
      ],
      "source": [
        "# this formatting creates a string\n",
        "s2 = \"value1 = %.2f. value2 = %d\" % (3.1415, 1.5)\n",
        "\n",
        "print(s2)"
      ]
    },
    {
      "cell_type": "code",
      "execution_count": 26,
      "metadata": {
        "colab": {
          "base_uri": "https://localhost:8080/"
        },
        "id": "JSuHytdAuEZO",
        "outputId": "96a12720-4d60-4a45-aa98-4a5f6f909471"
      },
      "outputs": [
        {
          "name": "stdout",
          "output_type": "stream",
          "text": [
            "value1 = 3.1415, value2 = 1.5\n"
          ]
        }
      ],
      "source": [
        "# alternative, more intuitive way of formatting a string\n",
        "s3 = \"value1 = {0}, value2 = {1}\".format(3.1415, 1.5)\n",
        "\n",
        "print(s3)"
      ]
    },
    {
      "cell_type": "markdown",
      "metadata": {
        "id": "OMeyubIhuEZO"
      },
      "source": [
        "### List"
      ]
    },
    {
      "cell_type": "markdown",
      "metadata": {
        "id": "b87Vmb4puEZP"
      },
      "source": [
        "Lists are very similar to strings, except that each element can be of any type.\n",
        "\n",
        "The syntax for creating lists in Python is `[...]`:"
      ]
    },
    {
      "cell_type": "code",
      "execution_count": 27,
      "metadata": {
        "colab": {
          "base_uri": "https://localhost:8080/"
        },
        "id": "B98Bh9bFuEZP",
        "outputId": "95a1556a-3a91-4953-c8c0-e25c5e0fcafe"
      },
      "outputs": [
        {
          "name": "stdout",
          "output_type": "stream",
          "text": [
            "<class 'list'>\n",
            "[1, 2, 3, 4]\n"
          ]
        }
      ],
      "source": [
        "l = [1, 2, 3, 4]\n",
        "print(type(l))\n",
        "print(l)"
      ]
    },
    {
      "cell_type": "markdown",
      "metadata": {
        "id": "K0gI0ydquEZP"
      },
      "source": [
        "We can use the same slicing techniques to manipulate lists as we could use on strings:"
      ]
    },
    {
      "cell_type": "code",
      "execution_count": 28,
      "metadata": {
        "colab": {
          "base_uri": "https://localhost:8080/"
        },
        "id": "R_t6DVlAuEZP",
        "outputId": "9e66e8c3-93ca-4ae6-b5ed-7b59bdc7327f"
      },
      "outputs": [
        {
          "name": "stdout",
          "output_type": "stream",
          "text": [
            "[1, 2, 3, 4]\n",
            "[2, 3]\n",
            "[1, 3]\n",
            "1\n"
          ]
        }
      ],
      "source": [
        "print(l)\n",
        "\n",
        "print(l[1:3])\n",
        "\n",
        "print(l[::2])\n",
        "\n",
        "print(l[0])"
      ]
    },
    {
      "cell_type": "markdown",
      "metadata": {
        "id": "YJgidEF6uEZP"
      },
      "source": [
        "**Heads up MATLAB users:** Indexing starts at 0!"
      ]
    },
    {
      "cell_type": "code",
      "execution_count": 29,
      "metadata": {
        "id": "tSPt_gLnuEZP",
        "outputId": "8aa288f3-dceb-42df-9bd2-8daef4196c56"
      },
      "outputs": [
        {
          "name": "stdout",
          "output_type": "stream",
          "text": [
            "1\n"
          ]
        }
      ],
      "source": [
        "print(l[0])"
      ]
    },
    {
      "cell_type": "markdown",
      "metadata": {
        "id": "HE10CFr-uEZQ"
      },
      "source": [
        "Elements in a list do not all have to be of the same type:"
      ]
    },
    {
      "cell_type": "code",
      "execution_count": 30,
      "metadata": {
        "id": "VoOQGG4KuEZQ",
        "outputId": "06f90037-9699-4f99-c643-85b4d25588cc"
      },
      "outputs": [
        {
          "name": "stdout",
          "output_type": "stream",
          "text": [
            "[1, 'a', 1.0, (1-1j)]\n"
          ]
        }
      ],
      "source": [
        "l = [1, \"a\", 1.0, 1 - 1j]\n",
        "\n",
        "print(l)"
      ]
    },
    {
      "cell_type": "markdown",
      "metadata": {
        "id": "6CeneN2YuEZQ"
      },
      "source": [
        "Python lists can be inhomogeneous and arbitrarily nested:"
      ]
    },
    {
      "cell_type": "code",
      "execution_count": 31,
      "metadata": {
        "id": "Dbt5q9mWuEZQ",
        "outputId": "3c98b80f-d23a-4057-aa3a-cc09f5db3664"
      },
      "outputs": [
        {
          "name": "stdout",
          "output_type": "stream",
          "text": [
            "[5]\n"
          ]
        }
      ],
      "source": [
        "nested_list = [1, [2, [3, [4, [5]]]]]\n",
        "\n",
        "print(nested_list[1][1][1][1])"
      ]
    },
    {
      "cell_type": "markdown",
      "metadata": {
        "id": "xvFDaQFDuEZR"
      },
      "source": [
        "Lists play a very important role in Python. For example they are used in loops and other flow control structures (discussed below). There are a number of convenient functions for generating lists of various types, for example the `range` function:"
      ]
    },
    {
      "cell_type": "code",
      "execution_count": 32,
      "metadata": {
        "id": "K8u3bDcfuEZR",
        "outputId": "0f870dec-51b3-4bd9-a73a-86600306d15d"
      },
      "outputs": [
        {
          "name": "stdout",
          "output_type": "stream",
          "text": [
            "range(10, 30, 2)\n"
          ]
        }
      ],
      "source": [
        "start = 10\n",
        "stop = 30\n",
        "step = 2\n",
        "\n",
        "print(range(start, stop, step))"
      ]
    },
    {
      "cell_type": "code",
      "execution_count": 33,
      "metadata": {
        "id": "y4jQxTzbuEZR",
        "outputId": "6e482225-6efe-4341-9fde-3cb57e120908"
      },
      "outputs": [
        {
          "name": "stdout",
          "output_type": "stream",
          "text": [
            "[10, 12, 14, 16, 18, 20, 22, 24, 26, 28]\n"
          ]
        }
      ],
      "source": [
        "# in python 3 range generates an interator, which can be converted to a list using 'list(...)'.\n",
        "# It has no effect in python 2\n",
        "print(list(range(start, stop, step)))"
      ]
    },
    {
      "cell_type": "code",
      "execution_count": 34,
      "metadata": {
        "id": "FqNDy6QyuEZR",
        "outputId": "e474a4d0-2bd5-4948-82fd-7b898654443c"
      },
      "outputs": [
        {
          "name": "stdout",
          "output_type": "stream",
          "text": [
            "[-10, -9, -8, -7, -6, -5, -4, -3, -2, -1, 0, 1, 2, 3, 4, 5, 6, 7, 8, 9]\n"
          ]
        }
      ],
      "source": [
        "print(list(range(-10, 10)))"
      ]
    },
    {
      "cell_type": "code",
      "execution_count": 35,
      "metadata": {
        "id": "_rXa5veduEZR",
        "outputId": "e0dccc75-ab5d-4782-fabc-22db13269d34"
      },
      "outputs": [
        {
          "name": "stdout",
          "output_type": "stream",
          "text": [
            "Hello world\n"
          ]
        }
      ],
      "source": [
        "print(s)"
      ]
    },
    {
      "cell_type": "code",
      "execution_count": 36,
      "metadata": {
        "id": "lvMUhXHTuEZS",
        "outputId": "d3b6e723-3de9-4496-e683-20adcf6e1e15"
      },
      "outputs": [
        {
          "name": "stdout",
          "output_type": "stream",
          "text": [
            "is\n"
          ]
        }
      ],
      "source": [
        "# convert a string to a list by type casting:\n",
        "s2 = \"my name is mohamamd anas\"\n",
        "s2 = s2.split()\n",
        "\n",
        "print(s2[2])"
      ]
    },
    {
      "cell_type": "code",
      "execution_count": 37,
      "metadata": {
        "id": "yZJxwxAPuEZS",
        "outputId": "e0663c1e-e22c-49f4-fc92-5cf21186cedc"
      },
      "outputs": [
        {
          "name": "stdout",
          "output_type": "stream",
          "text": [
            "['anas', 'is', 'mohamamd', 'my', 'name']\n"
          ]
        }
      ],
      "source": [
        "# sorting lists\n",
        "s2.sort()\n",
        "\n",
        "print(s2)"
      ]
    },
    {
      "cell_type": "markdown",
      "metadata": {
        "id": "pH9N1pYOuEZS"
      },
      "source": [
        "#### Adding, inserting, modifying, and removing elements from lists"
      ]
    },
    {
      "cell_type": "code",
      "execution_count": 38,
      "metadata": {
        "id": "XZ8syFCvuEZS",
        "outputId": "5bc9bd1c-b609-4309-fba1-bbcfcf3e7420"
      },
      "outputs": [
        {
          "name": "stdout",
          "output_type": "stream",
          "text": [
            "['A', 'd', 'd']\n"
          ]
        }
      ],
      "source": [
        "# create a new empty list\n",
        "l = []\n",
        "\n",
        "# add an elements using `append`\n",
        "l.append(\"A\")\n",
        "l.append(\"d\")\n",
        "l.append(\"d\")\n",
        "\n",
        "print(l)"
      ]
    },
    {
      "cell_type": "markdown",
      "metadata": {
        "id": "ZGohVT3GuEZS"
      },
      "source": [
        "We can modify lists by assigning new values to elements in the list. In technical jargon, lists are *mutable*."
      ]
    },
    {
      "cell_type": "code",
      "execution_count": 39,
      "metadata": {
        "id": "sL76p0vFuEZU",
        "outputId": "2a7fa7fa-b450-4b14-9dd8-25db30746668"
      },
      "outputs": [
        {
          "name": "stdout",
          "output_type": "stream",
          "text": [
            "['A', 'p', 'p']\n"
          ]
        }
      ],
      "source": [
        "l[1] = \"p\"\n",
        "l[2] = \"p\"\n",
        "\n",
        "print(l)"
      ]
    },
    {
      "cell_type": "code",
      "execution_count": 40,
      "metadata": {
        "id": "hisLecXGuEZV",
        "outputId": "419b380a-d413-4616-e5c9-e3be97a7366c"
      },
      "outputs": [
        {
          "name": "stdout",
          "output_type": "stream",
          "text": [
            "['A', 'd', 'd']\n"
          ]
        }
      ],
      "source": [
        "l[1:3] = [\"d\", \"d\"]\n",
        "\n",
        "print(l)"
      ]
    },
    {
      "cell_type": "markdown",
      "metadata": {
        "id": "gmUplPNwuEZV"
      },
      "source": [
        "Insert an element at an specific index using `insert`"
      ]
    },
    {
      "cell_type": "code",
      "execution_count": 41,
      "metadata": {
        "id": "ZBGcL-k6uEZV",
        "outputId": "bc10b980-e846-45f4-e579-6b0db30d3b1e"
      },
      "outputs": [
        {
          "name": "stdout",
          "output_type": "stream",
          "text": [
            "['i', 'n', 's', 'l', 'e', 'r', 't', 'A', 'd', 'd']\n"
          ]
        }
      ],
      "source": [
        "l.insert(0, \"i\")\n",
        "l.insert(1, \"n\")\n",
        "l.insert(2, \"s\")\n",
        "l.insert(3, \"e\")\n",
        "l.insert(4, \"r\")\n",
        "l.insert(5, \"t\")\n",
        "l.insert(3, \"l\")\n",
        "print(l)"
      ]
    },
    {
      "cell_type": "markdown",
      "metadata": {
        "id": "KlBUcE03uEZV"
      },
      "source": [
        "Remove first element with specific value using 'remove'"
      ]
    },
    {
      "cell_type": "code",
      "execution_count": 42,
      "metadata": {
        "id": "TFGyTHXWuEZV",
        "outputId": "e5e85ccc-54d7-4918-93e0-1c849dc7fc21"
      },
      "outputs": [
        {
          "name": "stdout",
          "output_type": "stream",
          "text": [
            "['i', 'n', 's', 'l', 'e', 'r', 't', 'd', 'd']\n"
          ]
        }
      ],
      "source": [
        "l.remove(\"A\")\n",
        "\n",
        "print(l)"
      ]
    },
    {
      "cell_type": "markdown",
      "metadata": {
        "id": "Npd6K5w5uEZW"
      },
      "source": [
        "Remove an element at a specific location using `del`:"
      ]
    },
    {
      "cell_type": "code",
      "execution_count": 43,
      "metadata": {
        "id": "dKwAHFtMuEZW",
        "outputId": "b2569953-9d44-4bc5-f66e-2403bcecca88"
      },
      "outputs": [
        {
          "name": "stdout",
          "output_type": "stream",
          "text": [
            "['i', 'n', 's', 'l', 'e', 'r', 'd']\n"
          ]
        }
      ],
      "source": [
        "del l[7]\n",
        "del l[6]\n",
        "\n",
        "print(l)"
      ]
    },
    {
      "cell_type": "markdown",
      "metadata": {
        "id": "RWChvPDCuEZW"
      },
      "source": [
        "See `help(list)` for more details, or read the online documentation"
      ]
    },
    {
      "cell_type": "markdown",
      "metadata": {
        "id": "NefL6ibeuEZW"
      },
      "source": [
        "### Tuples"
      ]
    },
    {
      "cell_type": "markdown",
      "metadata": {
        "id": "9t81_hLPuEZW"
      },
      "source": [
        "Tuples are like lists, except that they cannot be modified once created, that is they are *immutable*.\n",
        "\n",
        "In Python, tuples are created using the syntax `(..., ..., ...)`, or even `..., ...`:"
      ]
    },
    {
      "cell_type": "code",
      "execution_count": 44,
      "metadata": {
        "id": "XDyrpSdAuEZX",
        "outputId": "3e123ad2-5f34-4cc0-e9db-edab1ed8b500"
      },
      "outputs": [
        {
          "name": "stdout",
          "output_type": "stream",
          "text": [
            "(10, 20) <class 'tuple'>\n"
          ]
        }
      ],
      "source": [
        "point = (10, 20)\n",
        "\n",
        "print(point, type(point))"
      ]
    },
    {
      "cell_type": "code",
      "execution_count": 45,
      "metadata": {
        "id": "T1M4A9EEuEZX",
        "outputId": "51a918d3-1030-4ba9-e4a5-f0844863c5e7"
      },
      "outputs": [
        {
          "name": "stdout",
          "output_type": "stream",
          "text": [
            "(10, 20) <class 'tuple'>\n"
          ]
        }
      ],
      "source": [
        "point = 10, 20\n",
        "\n",
        "print(point, type(point))"
      ]
    },
    {
      "cell_type": "markdown",
      "metadata": {
        "id": "-qGcvrsDuEZX"
      },
      "source": [
        "We can unpack a tuple by assigning it to a comma-separated list of variables:"
      ]
    },
    {
      "cell_type": "code",
      "execution_count": 46,
      "metadata": {
        "id": "icoYFG8buEZX",
        "outputId": "247dfbae-5c12-4b9f-a9df-95cc4e6383af"
      },
      "outputs": [
        {
          "name": "stdout",
          "output_type": "stream",
          "text": [
            "x = 10\n",
            "y = 20\n"
          ]
        }
      ],
      "source": [
        "x, y = point\n",
        "\n",
        "print(\"x =\", x)\n",
        "print(\"y =\", y)"
      ]
    },
    {
      "cell_type": "markdown",
      "metadata": {
        "id": "C-MY1Oq4uEZX"
      },
      "source": [
        "If we try to assign a new value to an element in a tuple we get an error:"
      ]
    },
    {
      "cell_type": "markdown",
      "metadata": {
        "id": "qGg0OP6GuEZX"
      },
      "source": [
        "### Dictionaries"
      ]
    },
    {
      "cell_type": "markdown",
      "metadata": {
        "id": "2xHY36IguEZY"
      },
      "source": [
        "Dictionaries are also like lists, except that each element is a key-value pair. The syntax for dictionaries is `{key1 : value1, ...}`:"
      ]
    },
    {
      "cell_type": "code",
      "execution_count": 47,
      "metadata": {
        "id": "0o7qZWB-uEZY"
      },
      "outputs": [],
      "source": [
        "params = {\n",
        "    \"parameter1\": 1.0,\n",
        "    \"parameter2\": 2.0,\n",
        "    \"parameter3\": 3.0,\n",
        "}\n",
        "\n",
        "\n",
        "# print type(params)\n",
        "\n",
        "\n",
        "# print params"
      ]
    },
    {
      "cell_type": "markdown",
      "metadata": {
        "id": "IzP7FifnuEZY"
      },
      "source": [
        "We can access the values using keys"
      ]
    },
    {
      "cell_type": "code",
      "execution_count": 48,
      "metadata": {
        "id": "5WZ1h7z3uEZY",
        "outputId": "5e4f924f-51c2-4dac-f7b9-1afbee3d0fd9"
      },
      "outputs": [
        {
          "name": "stdout",
          "output_type": "stream",
          "text": [
            "parameter1 =  1.0\n",
            "parameter2 =  2.0\n",
            "parameter3 =  3.0\n"
          ]
        }
      ],
      "source": [
        "print(\"parameter1 = \", params[\"parameter1\"])\n",
        "print(\"parameter2 = \", params[\"parameter2\"])\n",
        "print(\"parameter3 = \", params[\"parameter3\"])"
      ]
    },
    {
      "cell_type": "code",
      "execution_count": 49,
      "metadata": {
        "id": "EE-j3adBuEZY",
        "outputId": "15df6a01-cbf9-4405-ceb4-26547a48b925"
      },
      "outputs": [
        {
          "name": "stdout",
          "output_type": "stream",
          "text": [
            "parameter1 =  A\n",
            "parameter2 =  B\n",
            "parameter3 =  3.0\n",
            "parameter4 =  D\n"
          ]
        }
      ],
      "source": [
        "params[\"parameter1\"] = \"A\"\n",
        "params[\"parameter2\"] = \"B\"\n",
        "\n",
        "# add a new entry\n",
        "params[\"parameter4\"] = \"D\"\n",
        "\n",
        "print(\"parameter1 = \", params[\"parameter1\"])\n",
        "print(\"parameter2 = \", params[\"parameter2\"])\n",
        "print(\"parameter3 = \", params[\"parameter3\"])\n",
        "print(\"parameter4 = \", params[\"parameter4\"])"
      ]
    },
    {
      "cell_type": "markdown",
      "metadata": {
        "id": "O8ZLeIW8uEZZ"
      },
      "source": [
        "If the key dost not exists, it will through an exception"
      ]
    },
    {
      "cell_type": "markdown",
      "metadata": {
        "id": "05LIGD6UuEZZ"
      },
      "source": [
        "### Default Dictionary\n",
        "\n",
        "A defaultdict works exactly like a normal dict, but it is initialized with a function (“default factory”) that takes no arguments and provides the default value for a nonexistent key.\n",
        "\n",
        "A defaultdict will never raise a KeyError. Any key that does not exist gets the value returned by the default factory. For example consider the following example with the default value as 'Vanilla'.\n",
        "\n",
        "**Note : ** Since default dictionary takes a function as argument, be sure to pass the function object to defaultdict(). Do not call the function.\n",
        "    - Correct   :  defaultdict(func)\n",
        "    - Incorrect :  defaultdict(func())."
      ]
    },
    {
      "cell_type": "code",
      "execution_count": 50,
      "metadata": {
        "id": "4OEXDuAmuEZZ",
        "outputId": "f85f8b31-09f6-459e-f602-6d405e86ef97"
      },
      "outputs": [
        {
          "name": "stdout",
          "output_type": "stream",
          "text": [
            "Chunky Monkey\n",
            "Vanilla\n"
          ]
        }
      ],
      "source": [
        "from collections import defaultdict\n",
        "\n",
        "\n",
        "# A function providing default values\n",
        "\n",
        "\n",
        "def values():\n",
        "    return \"Vanilla\"\n",
        "\n",
        "\n",
        "\n",
        "# Making an object of the default diictionary with the function defined ablove\n",
        "\n",
        "\n",
        "ice_cream = defaultdict(values)\n",
        "\n",
        "\n",
        "\n",
        "# assigning values with keys\n",
        "\n",
        "\n",
        "\n",
        "ice_cream[\"Sarah\"] = \"Chunky Monkey\"\n",
        "\n",
        "\n",
        "ice_cream[\"Abdul\"] = \"Butter Pecan\"\n",
        "\n",
        "\n",
        "\n",
        "# accessing the value of a key that exists\n",
        "\n",
        "\n",
        "\n",
        "print(ice_cream[\"Sarah\"])\n",
        "\n",
        "\n",
        "\n",
        "# accessing the value of a key that do not exists, will print default value\n",
        "\n",
        "\n",
        "\n",
        "print(ice_cream[\"Joe\"])"
      ]
    },
    {
      "cell_type": "markdown",
      "metadata": {
        "id": "fnrS9uEcIIxX"
      },
      "source": [
        "###Nested Dictionary\n"
      ]
    },
    {
      "cell_type": "code",
      "execution_count": 51,
      "metadata": {
        "id": "rXDBo79RISlQ"
      },
      "outputs": [],
      "source": [
        "# Nested dictionary representing teacher and student data\n",
        "data_science_school = {\n",
        "    \"Teacher1\": {\n",
        "        \"name\": \"Dr. Smith\",\n",
        "        \"students\": {\n",
        "            \"Student1\": {\"name\": \"Alice\", \"age\": 25, \"grade\": \"A\"},\n",
        "            \"Student2\": {\"name\": \"Bob\", \"age\": 24, \"grade\": \"B\"},\n",
        "        },\n",
        "    },\n",
        "    \"Teacher2\": {\n",
        "        \"name\": \"Prof. Johnson\",\n",
        "        \"students\": {\n",
        "            \"Student3\": {\"name\": \"Charlie\", \"age\": 26, \"grade\": \"A+\"},\n",
        "            \"Student4\": {\"name\": \"David\", \"age\": 23, \"grade\": \"B+\"},\n",
        "        },\n",
        "    },\n",
        "}"
      ]
    },
    {
      "cell_type": "code",
      "execution_count": 52,
      "metadata": {
        "id": "XKVKTce4IXfh"
      },
      "outputs": [
        {
          "name": "stdout",
          "output_type": "stream",
          "text": [
            "Teacher: Dr. Smith\n",
            "Student: Alice\n",
            "Student's Grade: A\n"
          ]
        }
      ],
      "source": [
        "# Accessing data in the nested dictionary\n",
        "teacher_name = data_science_school[\"Teacher1\"][\"name\"]\n",
        "student_name = data_science_school[\"Teacher1\"][\"students\"][\"Student1\"][\"name\"]\n",
        "student_grade = data_science_school[\"Teacher1\"][\"students\"][\"Student1\"][\"grade\"]\n",
        "\n",
        "print(f\"Teacher: {teacher_name}\")\n",
        "print(f\"Student: {student_name}\")\n",
        "print(f\"Student's Grade: {student_grade}\")"
      ]
    },
    {
      "cell_type": "markdown",
      "metadata": {
        "id": "dz-6gN6vuEZa"
      },
      "source": [
        "## Control Flow"
      ]
    },
    {
      "cell_type": "markdown",
      "metadata": {
        "id": "rgU2ZjNAuEZa"
      },
      "source": [
        "### Conditional statements: if, elif, else"
      ]
    },
    {
      "cell_type": "markdown",
      "metadata": {
        "id": "OP7HXGfAuEZa"
      },
      "source": [
        "The Python syntax for conditional execution of code uses the keywords `if`, `elif` (else if), `else`:"
      ]
    },
    {
      "cell_type": "code",
      "execution_count": 53,
      "metadata": {
        "colab": {
          "background_save": true,
          "base_uri": "https://localhost:8080/"
        },
        "id": "OMbK9TIQuEZa",
        "outputId": "ef65b35c-76f1-40ce-b2ec-69b97dbd5e10"
      },
      "outputs": [
        {
          "name": "stdout",
          "output_type": "stream",
          "text": [
            "statement1 and statement2 are False\n"
          ]
        }
      ],
      "source": [
        "statement1 = False\n",
        "statement2 = False\n",
        "\n",
        "if statement1:\n",
        "    print(\"statement1 is True\")\n",
        "\n",
        "elif statement2:\n",
        "    print(\"statement2 is True\")\n",
        "\n",
        "else:\n",
        "    print(\"statement1 and statement2 are False\")"
      ]
    },
    {
      "cell_type": "markdown",
      "metadata": {
        "id": "EZeKwJLauEZb"
      },
      "source": [
        "#### Examples:"
      ]
    },
    {
      "cell_type": "code",
      "execution_count": 54,
      "metadata": {
        "colab": {
          "background_save": true
        },
        "id": "y9JoJspGuEZb",
        "outputId": "bea8db0d-2065-47b5-cfbf-f5b06afa8bff"
      },
      "outputs": [
        {
          "name": "stdout",
          "output_type": "stream",
          "text": [
            "both statement1 and statement2 are True\n"
          ]
        }
      ],
      "source": [
        "statement1 = statement2 = True\n",
        "\n",
        "if statement1:\n",
        "    if statement2:\n",
        "        print(\"both statement1 and statement2 are True\")"
      ]
    },
    {
      "cell_type": "code",
      "execution_count": 55,
      "metadata": {
        "colab": {
          "base_uri": "https://localhost:8080/"
        },
        "id": "h49KKT_EuEZb",
        "outputId": "a4c888f2-81de-4aac-d8cd-1f16b265f6d1"
      },
      "outputs": [],
      "source": [
        "statement1 = False\n",
        "\n",
        "if statement1:\n",
        "    print(\"printed if statement1 is True\")\n",
        "\n",
        "    print(\"still inside the if block\")"
      ]
    },
    {
      "cell_type": "code",
      "execution_count": 56,
      "metadata": {
        "colab": {
          "base_uri": "https://localhost:8080/"
        },
        "id": "mnOHD9gPuEZc",
        "outputId": "2e6808c4-bfd5-4dda-832a-aa2909ac5013"
      },
      "outputs": [
        {
          "name": "stdout",
          "output_type": "stream",
          "text": [
            "now outside the if block\n"
          ]
        }
      ],
      "source": [
        "if statement1:\n",
        "    print(\"printed if statement1 is True\")\n",
        "\n",
        "print(\"now outside the if block\")"
      ]
    },
    {
      "cell_type": "markdown",
      "metadata": {
        "id": "Id5qyDoOuEZc"
      },
      "source": [
        "## Loops"
      ]
    },
    {
      "cell_type": "markdown",
      "metadata": {
        "id": "yLwmbtw-uEZc"
      },
      "source": [
        "In Python, loops can be programmed in a number of different ways. The most common is the `for` loop, which is used together with iterable objects, such as lists. The basic syntax is:"
      ]
    },
    {
      "cell_type": "markdown",
      "metadata": {
        "id": "agd-fMUJuEZd"
      },
      "source": [
        "### **`for` loops**:"
      ]
    },
    {
      "cell_type": "code",
      "execution_count": 57,
      "metadata": {
        "id": "60xRzP2ouEZd",
        "outputId": "3dbeed5c-0e81-444b-9b45-98143bd181ae"
      },
      "outputs": [
        {
          "name": "stdout",
          "output_type": "stream",
          "text": [
            "1\n",
            "2\n",
            "3\n"
          ]
        }
      ],
      "source": [
        "for x in [1, 2, 3]:\n",
        "    print(x)"
      ]
    },
    {
      "cell_type": "markdown",
      "metadata": {
        "id": "aMYXALpyuEZd"
      },
      "source": [
        "The `for` loop iterates over the elements of the supplied list, and executes the containing block once for each element. Any kind of list can be used in the `for` loop. For example:"
      ]
    },
    {
      "cell_type": "code",
      "execution_count": 58,
      "metadata": {
        "colab": {
          "base_uri": "https://localhost:8080/"
        },
        "id": "vVaxo967uEZd",
        "outputId": "3b48dec3-0169-4700-a9e3-b1d74c25ffed"
      },
      "outputs": [
        {
          "name": "stdout",
          "output_type": "stream",
          "text": [
            "0 1 2 3 "
          ]
        }
      ],
      "source": [
        "for x in range(4):  # by default range start at 0\n",
        "    print(x, end=\" \")"
      ]
    },
    {
      "cell_type": "markdown",
      "metadata": {
        "id": "JXq0hqe8uEZe"
      },
      "source": [
        "Note: `range(4)` does not include 4 !"
      ]
    },
    {
      "cell_type": "code",
      "execution_count": 59,
      "metadata": {
        "colab": {
          "base_uri": "https://localhost:8080/"
        },
        "id": "m1g60tENuEZe",
        "outputId": "3bf0ccf5-48e8-4644-875a-350c06e435d4"
      },
      "outputs": [
        {
          "name": "stdout",
          "output_type": "stream",
          "text": [
            "-3\n",
            "-2\n",
            "-1\n",
            "0\n",
            "1\n",
            "2\n"
          ]
        }
      ],
      "source": [
        "for x in range(-3, 3):\n",
        "    print(x)"
      ]
    },
    {
      "cell_type": "code",
      "execution_count": 60,
      "metadata": {
        "id": "dHPz26YFuEZf",
        "outputId": "c106e127-edb4-4de2-b641-a0c80185ec04"
      },
      "outputs": [
        {
          "name": "stdout",
          "output_type": "stream",
          "text": [
            "scientific\n",
            "computing\n",
            "with\n",
            "python\n"
          ]
        }
      ],
      "source": [
        "for word in [\"scientific\", \"computing\", \"with\", \"python\"]:\n",
        "    print(word)"
      ]
    },
    {
      "cell_type": "markdown",
      "metadata": {
        "id": "jHmr9qrEuEZf"
      },
      "source": [
        "To iterate over key-value pairs of a dictionary:"
      ]
    },
    {
      "cell_type": "code",
      "execution_count": 61,
      "metadata": {
        "colab": {
          "base_uri": "https://localhost:8080/"
        },
        "id": "n1yDuchouEZf",
        "outputId": "46882fe3-45f6-49c2-8040-a6765b71c548"
      },
      "outputs": [
        {
          "name": "stdout",
          "output_type": "stream",
          "text": [
            "parameter1 = A\n",
            "parameter2 = B\n",
            "parameter3 = 3.0\n",
            "parameter4 = D\n"
          ]
        }
      ],
      "source": [
        "for key, value in params.items():\n",
        "    print(key + \" = \" + str(value))\n",
        "    # print(value)"
      ]
    },
    {
      "cell_type": "markdown",
      "metadata": {
        "id": "FYw856yLuEZf"
      },
      "source": [
        "Sometimes it is useful to have access to the indices of the values when iterating over a list. We can use the `enumerate` function for this:"
      ]
    },
    {
      "cell_type": "code",
      "execution_count": 62,
      "metadata": {
        "colab": {
          "base_uri": "https://localhost:8080/"
        },
        "id": "Hu0XFVijuEZf",
        "outputId": "571185db-46be-42ea-8f08-bf21ab199a8f"
      },
      "outputs": [
        {
          "name": "stdout",
          "output_type": "stream",
          "text": [
            "0 -3\n",
            "1 -2\n",
            "2 -1\n",
            "3 0\n",
            "4 1\n",
            "5 2\n"
          ]
        }
      ],
      "source": [
        "for idx, i in enumerate(range(-3, 3)):\n",
        "    print(idx, i)"
      ]
    },
    {
      "cell_type": "markdown",
      "metadata": {
        "id": "XGgvsV5aJVVt"
      },
      "source": [
        "The reversed() function returns a reverse iterator, which you can use to iterate over elements in reverse order."
      ]
    },
    {
      "cell_type": "code",
      "execution_count": 63,
      "metadata": {
        "id": "9qcPZx2UJUSi"
      },
      "outputs": [
        {
          "name": "stdout",
          "output_type": "stream",
          "text": [
            "5\n",
            "4\n",
            "3\n",
            "2\n",
            "1\n"
          ]
        }
      ],
      "source": [
        "my_list = [1, 2, 3, 4, 5]\n",
        "\n",
        "for item in reversed(my_list):\n",
        "    print(item)"
      ]
    },
    {
      "cell_type": "markdown",
      "metadata": {
        "id": "T3LKQs5EJpB1"
      },
      "source": [
        "To print every second element of a list using a for loop in Python, you can use slicing. Here's how you can do it:"
      ]
    },
    {
      "cell_type": "code",
      "execution_count": 64,
      "metadata": {
        "id": "5AqR1TCLJvGb"
      },
      "outputs": [
        {
          "name": "stdout",
          "output_type": "stream",
          "text": [
            "2\n",
            "4\n",
            "6\n",
            "8\n"
          ]
        }
      ],
      "source": [
        "my_list = [1, 2, 3, 4, 5, 6, 7, 8, 9]\n",
        "\n",
        "for i in range(1, len(my_list), 2):\n",
        "    print(my_list[i])"
      ]
    },
    {
      "cell_type": "markdown",
      "metadata": {
        "id": "KfFqAIfruEZg"
      },
      "source": [
        "### List comprehensions: Creating lists using `for` loops:"
      ]
    },
    {
      "cell_type": "markdown",
      "metadata": {
        "id": "31UCPkcmuEZg"
      },
      "source": [
        "A convenient and compact way to initialize lists:"
      ]
    },
    {
      "cell_type": "code",
      "execution_count": 88,
      "metadata": {
        "colab": {
          "base_uri": "https://localhost:8080/"
        },
        "id": "69FvMrEGuEZg",
        "outputId": "4638d4c3-cf85-4c98-fa65-1a78cf1555a0"
      },
      "outputs": [
        {
          "data": {
            "text/plain": [
              "[range(0, 5)]"
            ]
          },
          "execution_count": 88,
          "metadata": {},
          "output_type": "execute_result"
        }
      ],
      "source": [
        "x = 1\n",
        "l1 = [range(0, 5)]\n",
        "\n",
        "l1"
      ]
    },
    {
      "cell_type": "markdown",
      "metadata": {
        "id": "llOfW1ezuEZg"
      },
      "source": [
        "### `while` loops:"
      ]
    },
    {
      "cell_type": "code",
      "execution_count": 66,
      "metadata": {
        "id": "vgDQXgs8uEZg",
        "outputId": "df1dbee7-e841-4deb-ce11-8c65b08c7566"
      },
      "outputs": [
        {
          "name": "stdout",
          "output_type": "stream",
          "text": [
            "0\n",
            "1\n",
            "2\n",
            "3\n",
            "4\n",
            "done\n"
          ]
        }
      ],
      "source": [
        "i = 0\n",
        "\n",
        "while i < 5:\n",
        "    print(i)\n",
        "\n",
        "    i = i + 1\n",
        "\n",
        "print(\"done\")"
      ]
    },
    {
      "cell_type": "markdown",
      "metadata": {
        "id": "1IAVZ1DwuEZh"
      },
      "source": [
        "Note that the `print(\"done\")` statement is not part of the `while` loop body because of the difference in indentation."
      ]
    },
    {
      "cell_type": "markdown",
      "metadata": {
        "id": "DlUGPmVDuEZh"
      },
      "source": [
        "## Functions"
      ]
    },
    {
      "cell_type": "markdown",
      "metadata": {
        "id": "LBOUcVYEuEZh"
      },
      "source": [
        "A function in Python is defined using the keyword `def`, followed by a function name, a signature within parentheses `()`, and a colon `:`. The following code, with one additional level of indentation, is the function body."
      ]
    },
    {
      "cell_type": "code",
      "execution_count": 67,
      "metadata": {
        "id": "RNQsQpbduEZh"
      },
      "outputs": [],
      "source": [
        "def func0():\n",
        "    print(\"test\")"
      ]
    },
    {
      "cell_type": "code",
      "execution_count": 68,
      "metadata": {
        "id": "__ho4HtuuEZh",
        "outputId": "92b612e6-94c1-4218-e0b0-db226b6360c0"
      },
      "outputs": [
        {
          "name": "stdout",
          "output_type": "stream",
          "text": [
            "test\n"
          ]
        }
      ],
      "source": [
        "func0()"
      ]
    },
    {
      "cell_type": "markdown",
      "metadata": {
        "id": "vbJSW2TuuEZi"
      },
      "source": [
        "Optionally, but highly recommended, we can define a so called \"docstring\", which is a description of the functions purpose and behaivor. The docstring should follow directly after the function definition, before the code in the function body."
      ]
    },
    {
      "cell_type": "code",
      "execution_count": 69,
      "metadata": {
        "id": "xxwm5ZkLuEZi"
      },
      "outputs": [],
      "source": [
        "def func1(s):\n",
        "    \"\"\"\n",
        "    Print a string 's' and tell how many characters it has\n",
        "    \"\"\"\n",
        "\n",
        "    x = 2 + 2\n",
        "\n",
        "    # print (s + \" has \" + str(len(s)) + \" characters\")"
      ]
    },
    {
      "cell_type": "code",
      "execution_count": 70,
      "metadata": {
        "id": "hCq_KioNuEZi"
      },
      "outputs": [],
      "source": [
        "func1(2)"
      ]
    },
    {
      "cell_type": "code",
      "execution_count": 71,
      "metadata": {
        "id": "t8gVSVD9uEZi"
      },
      "outputs": [],
      "source": [
        "func1(\"test\")"
      ]
    },
    {
      "cell_type": "markdown",
      "metadata": {
        "id": "vVY1yUn1uEZk"
      },
      "source": [
        "Functions that returns a value use the `return` keyword:"
      ]
    },
    {
      "cell_type": "code",
      "execution_count": 72,
      "metadata": {
        "id": "1hIMBOjMuEZk"
      },
      "outputs": [],
      "source": [
        "def square(x):\n",
        "    \"\"\"\n",
        "    Please use int datatype\n",
        "    \"\"\"\n",
        "    return x**2"
      ]
    },
    {
      "cell_type": "code",
      "execution_count": 73,
      "metadata": {
        "id": "9hj2W3X2uEZl"
      },
      "outputs": [
        {
          "name": "stdout",
          "output_type": "stream",
          "text": [
            "4\n"
          ]
        }
      ],
      "source": [
        "print(square(2))"
      ]
    },
    {
      "cell_type": "code",
      "execution_count": 74,
      "metadata": {
        "colab": {
          "base_uri": "https://localhost:8080/"
        },
        "id": "Re22a8ta3iB-",
        "outputId": "1375c475-51ed-4204-bbbe-cb29481155f1"
      },
      "outputs": [
        {
          "name": "stdout",
          "output_type": "stream",
          "text": [
            "Help on function square in module __main__:\n",
            "\n",
            "square(x)\n",
            "    Please use int datatype\n",
            "\n"
          ]
        }
      ],
      "source": [
        "help(square)"
      ]
    },
    {
      "cell_type": "markdown",
      "metadata": {
        "id": "RIpNt2D-uEZl"
      },
      "source": [
        "We can return multiple values from a function using tuples (see above):"
      ]
    },
    {
      "cell_type": "code",
      "execution_count": 75,
      "metadata": {
        "id": "rrsSG6GeuEZl"
      },
      "outputs": [],
      "source": [
        "def powers(x):\n",
        "    \"\"\"\n",
        "    Return a few powers of x\n",
        "    \"\"\"\n",
        "    return x**2, x**3, x**4"
      ]
    },
    {
      "cell_type": "code",
      "execution_count": 76,
      "metadata": {
        "id": "RqYNh7Xe45zG"
      },
      "outputs": [],
      "source": [
        "answer1, answer2, answer3 = powers(3)"
      ]
    },
    {
      "cell_type": "code",
      "execution_count": 77,
      "metadata": {
        "colab": {
          "base_uri": "https://localhost:8080/"
        },
        "id": "EP0MV_Xb5I4w",
        "outputId": "c92b447e-0162-44bd-fcef-837389c9932e"
      },
      "outputs": [
        {
          "name": "stdout",
          "output_type": "stream",
          "text": [
            "9\n"
          ]
        }
      ],
      "source": [
        "print(answer1)"
      ]
    },
    {
      "cell_type": "code",
      "execution_count": 78,
      "metadata": {
        "id": "y8H5zQQJuEZl",
        "outputId": "6b1ed350-bf9e-41f2-807d-7cc56710aa65"
      },
      "outputs": [
        {
          "name": "stdout",
          "output_type": "stream",
          "text": [
            "(9, 27, 81)\n"
          ]
        }
      ],
      "source": [
        "print(powers(3))"
      ]
    },
    {
      "cell_type": "code",
      "execution_count": 79,
      "metadata": {
        "id": "dklX4QiEuEZl",
        "outputId": "0bd8ac21-b1cd-4177-acae-80116545a6ca"
      },
      "outputs": [
        {
          "name": "stdout",
          "output_type": "stream",
          "text": [
            "81\n"
          ]
        }
      ],
      "source": [
        "x2, x3, x4 = powers(3)\n",
        "\n",
        "print(x4)"
      ]
    },
    {
      "cell_type": "markdown",
      "metadata": {
        "id": "4HX2w_lcuEZm"
      },
      "source": [
        "### Default argument and keyword arguments"
      ]
    },
    {
      "cell_type": "markdown",
      "metadata": {
        "id": "W_N0J1WouEZm"
      },
      "source": [
        "In a definition of a function, we can give default values to the arguments the function takes:"
      ]
    },
    {
      "cell_type": "code",
      "execution_count": 80,
      "metadata": {
        "id": "2epqjFDkuEZm"
      },
      "outputs": [],
      "source": [
        "def myfunc(x, p=2, debug=False):\n",
        "    if debug:\n",
        "        print(\"evaluating myfunc for x = \" + str(x) + \" using exponent p = \" + str(p))\n",
        "    return x**p"
      ]
    },
    {
      "cell_type": "markdown",
      "metadata": {
        "id": "Lu655l-huEZn"
      },
      "source": [
        "If we don't provide a value of the `debug` argument when calling the the function `myfunc` it defaults to the value provided in the function definition:"
      ]
    },
    {
      "cell_type": "code",
      "execution_count": 81,
      "metadata": {
        "colab": {
          "base_uri": "https://localhost:8080/"
        },
        "id": "8zzMF4PxuEZn",
        "outputId": "d4780947-cb3c-4090-a559-536c4da8f6ad"
      },
      "outputs": [
        {
          "name": "stdout",
          "output_type": "stream",
          "text": [
            "25\n"
          ]
        }
      ],
      "source": [
        "print(myfunc(5))"
      ]
    },
    {
      "cell_type": "code",
      "execution_count": 82,
      "metadata": {
        "id": "UnufdG6RuEZn",
        "outputId": "27179a95-c6b8-4758-e544-46509d458801"
      },
      "outputs": [
        {
          "name": "stdout",
          "output_type": "stream",
          "text": [
            "evaluating myfunc for x = 5 using exponent p = 2\n",
            "25\n"
          ]
        }
      ],
      "source": [
        "print(myfunc(5, debug=True))"
      ]
    },
    {
      "cell_type": "markdown",
      "metadata": {
        "id": "_nufnOQzuEZp"
      },
      "source": [
        "If we explicitly list the name of the arguments in the function calls, they do not need to come in the same order as in the function definition. This is called *keyword* arguments, and is often very useful in functions that takes a lot of optional arguments."
      ]
    },
    {
      "cell_type": "code",
      "execution_count": 83,
      "metadata": {
        "id": "upxrl_w2uEZp",
        "outputId": "36e4e7fb-69dc-4765-ebb5-c37702470064"
      },
      "outputs": [
        {
          "name": "stdout",
          "output_type": "stream",
          "text": [
            "evaluating myfunc for x = 7 using exponent p = 3\n",
            "343\n"
          ]
        }
      ],
      "source": [
        "print(myfunc(p=3, debug=True, x=7))"
      ]
    },
    {
      "cell_type": "markdown",
      "metadata": {
        "id": "udgHPmtUuEZp"
      },
      "source": [
        "### Unnamed functions (lambda function)"
      ]
    },
    {
      "cell_type": "markdown",
      "metadata": {
        "id": "uvPDm-GZuEZp"
      },
      "source": [
        "In Python we can also create unnamed functions, using the `lambda` keyword:"
      ]
    },
    {
      "cell_type": "code",
      "execution_count": 84,
      "metadata": {
        "id": "I_nAyvSLuEZq"
      },
      "outputs": [],
      "source": [
        "f1 = lambda x: x**2\n",
        "\n",
        "# is equivalent to\n",
        "\n",
        "\n",
        "def f2(x):\n",
        "    return x**2"
      ]
    },
    {
      "cell_type": "code",
      "execution_count": 85,
      "metadata": {
        "id": "GYf2ax_QuEZq",
        "outputId": "17b1847d-9064-4212-e843-e4a532cd37af"
      },
      "outputs": [
        {
          "name": "stdout",
          "output_type": "stream",
          "text": [
            "4 4\n"
          ]
        }
      ],
      "source": [
        "print(f1(2), f2(2))"
      ]
    },
    {
      "cell_type": "markdown",
      "metadata": {
        "id": "6lNZmh0UuEZq"
      },
      "source": [
        "This technique is useful for example when we want to pass a simple function as an argument to another function, like this:"
      ]
    },
    {
      "cell_type": "code",
      "execution_count": 86,
      "metadata": {
        "id": "6VLD1KpFuEZq",
        "outputId": "94a1682b-4021-4e3f-d9a9-6baf2dca73b7"
      },
      "outputs": [
        {
          "name": "stdout",
          "output_type": "stream",
          "text": [
            "<map object at 0x000002B97AE4F130>\n"
          ]
        }
      ],
      "source": [
        "# map is a built-in python function\n",
        "print(map(lambda x: x**2, range(-3, 4)))"
      ]
    },
    {
      "cell_type": "code",
      "execution_count": 87,
      "metadata": {
        "id": "7erUZ3q5uEZq",
        "outputId": "c2f45383-6f40-4ac4-e6c2-e884ed483780"
      },
      "outputs": [],
      "source": [
        "# in python 3 we can use `list(...)` to convert the iterator to an explicit list\n",
        "l1 = list(map(lambda x: x**2, range(-3, 4)))"
      ]
    },
    {
      "cell_type": "markdown",
      "metadata": {
        "id": "6RlAukRguEZ0"
      },
      "source": [
        "## Further reading"
      ]
    },
    {
      "cell_type": "markdown",
      "metadata": {
        "id": "wwiR0pCvuEZ0"
      },
      "source": [
        "* http://www.python.org - The official web page of the Python programming language.\n",
        "* http://www.python.org/dev/peps/pep-0008 - Style guide for Python programming. Highly recommended.\n",
        "* http://www.greenteapress.com/thinkpython/ - A free book on Python programming.\n",
        "* [Python Essential Reference](http://www.amazon.com/Python-Essential-Reference-4th-Edition/dp/0672329786) - A good reference book on Python programming."
      ]
    }
  ],
  "metadata": {
    "anaconda-cloud": {},
    "colab": {
      "provenance": [],
      "toc_visible": true
    },
    "kernelspec": {
      "display_name": "Python 3",
      "language": "python",
      "name": "python3"
    },
    "language_info": {
      "codemirror_mode": {
        "name": "ipython",
        "version": 3
      },
      "file_extension": ".py",
      "mimetype": "text/x-python",
      "name": "python",
      "nbconvert_exporter": "python",
      "pygments_lexer": "ipython3",
      "version": "3.12.0"
    }
  },
  "nbformat": 4,
  "nbformat_minor": 0
}
